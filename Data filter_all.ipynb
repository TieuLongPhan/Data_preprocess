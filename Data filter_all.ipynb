{
 "cells": [
  {
   "cell_type": "code",
   "execution_count": 145,
   "id": "phPyfrenh42L",
   "metadata": {
    "id": "phPyfrenh42L"
   },
   "outputs": [],
   "source": [
    "import pandas as pd"
   ]
  },
  {
   "cell_type": "markdown",
   "id": "d5d0f6b6-8d24-4a7e-8695-ea691d452e0b",
   "metadata": {},
   "source": [
    "# 1. Load data"
   ]
  },
  {
   "cell_type": "code",
   "execution_count": 306,
   "id": "bdc4dea3-de98-435d-adee-eeec92d5433c",
   "metadata": {},
   "outputs": [
    {
     "data": {
      "text/html": [
       "<div>\n",
       "<style scoped>\n",
       "    .dataframe tbody tr th:only-of-type {\n",
       "        vertical-align: middle;\n",
       "    }\n",
       "\n",
       "    .dataframe tbody tr th {\n",
       "        vertical-align: top;\n",
       "    }\n",
       "\n",
       "    .dataframe thead th {\n",
       "        text-align: right;\n",
       "    }\n",
       "</style>\n",
       "<table border=\"1\" class=\"dataframe\">\n",
       "  <thead>\n",
       "    <tr style=\"text-align: right;\">\n",
       "      <th></th>\n",
       "      <th>Molecule ChEMBL ID</th>\n",
       "      <th>Molecule Name</th>\n",
       "      <th>Molecule Max Phase</th>\n",
       "      <th>Molecular Weight</th>\n",
       "      <th>#RO5 Violations</th>\n",
       "      <th>AlogP</th>\n",
       "      <th>Compound Key</th>\n",
       "      <th>Smiles</th>\n",
       "      <th>Standard Type</th>\n",
       "      <th>Standard Relation</th>\n",
       "      <th>...</th>\n",
       "      <th>Target Name</th>\n",
       "      <th>Target Organism</th>\n",
       "      <th>Target Type</th>\n",
       "      <th>Document ChEMBL ID</th>\n",
       "      <th>Source ID</th>\n",
       "      <th>Source Description</th>\n",
       "      <th>Document Journal</th>\n",
       "      <th>Document Year</th>\n",
       "      <th>Cell ChEMBL ID</th>\n",
       "      <th>Properties</th>\n",
       "    </tr>\n",
       "  </thead>\n",
       "  <tbody>\n",
       "    <tr>\n",
       "      <th>0</th>\n",
       "      <td>CHEMBL4213237</td>\n",
       "      <td>NaN</td>\n",
       "      <td>None</td>\n",
       "      <td>286.46</td>\n",
       "      <td>0</td>\n",
       "      <td>2.19</td>\n",
       "      <td>7'e</td>\n",
       "      <td>CCCCCCCCCCCNC[C@@H]1OC[C@H](N)[C@H]1O</td>\n",
       "      <td>IC50</td>\n",
       "      <td>'='</td>\n",
       "      <td>...</td>\n",
       "      <td>A549</td>\n",
       "      <td>Homo sapiens</td>\n",
       "      <td>CELL-LINE</td>\n",
       "      <td>CHEMBL4184090</td>\n",
       "      <td>1</td>\n",
       "      <td>Scientific Literature</td>\n",
       "      <td>Bioorg Med Chem Lett</td>\n",
       "      <td>2018.0</td>\n",
       "      <td>CHEMBL3307651</td>\n",
       "      <td>NaN</td>\n",
       "    </tr>\n",
       "    <tr>\n",
       "      <th>1</th>\n",
       "      <td>CHEMBL4204703</td>\n",
       "      <td>NaN</td>\n",
       "      <td>None</td>\n",
       "      <td>308.39</td>\n",
       "      <td>0</td>\n",
       "      <td>3.34</td>\n",
       "      <td>13, SLV 320</td>\n",
       "      <td>O[C@H]1CC[C@H](Nc2nc(-c3ccccc3)nc3[nH]ccc23)CC1</td>\n",
       "      <td>Activity</td>\n",
       "      <td>'='</td>\n",
       "      <td>...</td>\n",
       "      <td>A549</td>\n",
       "      <td>Homo sapiens</td>\n",
       "      <td>CELL-LINE</td>\n",
       "      <td>CHEMBL4184095</td>\n",
       "      <td>1</td>\n",
       "      <td>Scientific Literature</td>\n",
       "      <td>Bioorg Med Chem Lett</td>\n",
       "      <td>2018.0</td>\n",
       "      <td>CHEMBL3307651</td>\n",
       "      <td>NaN</td>\n",
       "    </tr>\n",
       "    <tr>\n",
       "      <th>2</th>\n",
       "      <td>CHEMBL136689</td>\n",
       "      <td>NaN</td>\n",
       "      <td>None</td>\n",
       "      <td>389.42</td>\n",
       "      <td>0</td>\n",
       "      <td>2.96</td>\n",
       "      <td>15, SCH 442416</td>\n",
       "      <td>COc1ccc(CCCn2ncc3c2nc(N)n2nc(-c4ccco4)nc32)cc1</td>\n",
       "      <td>Activity</td>\n",
       "      <td>'='</td>\n",
       "      <td>...</td>\n",
       "      <td>A549</td>\n",
       "      <td>Homo sapiens</td>\n",
       "      <td>CELL-LINE</td>\n",
       "      <td>CHEMBL4184095</td>\n",
       "      <td>1</td>\n",
       "      <td>Scientific Literature</td>\n",
       "      <td>Bioorg Med Chem Lett</td>\n",
       "      <td>2018.0</td>\n",
       "      <td>CHEMBL3307651</td>\n",
       "      <td>NaN</td>\n",
       "    </tr>\n",
       "    <tr>\n",
       "      <th>3</th>\n",
       "      <td>CHEMBL483688</td>\n",
       "      <td>NaN</td>\n",
       "      <td>None</td>\n",
       "      <td>529.02</td>\n",
       "      <td>1</td>\n",
       "      <td>2.65</td>\n",
       "      <td>16, PSB 603</td>\n",
       "      <td>CCCn1c(=O)[nH]c2nc(-c3ccc(S(=O)(=O)N4CCN(c5ccc...</td>\n",
       "      <td>Activity</td>\n",
       "      <td>'='</td>\n",
       "      <td>...</td>\n",
       "      <td>A549</td>\n",
       "      <td>Homo sapiens</td>\n",
       "      <td>CELL-LINE</td>\n",
       "      <td>CHEMBL4184095</td>\n",
       "      <td>1</td>\n",
       "      <td>Scientific Literature</td>\n",
       "      <td>Bioorg Med Chem Lett</td>\n",
       "      <td>2018.0</td>\n",
       "      <td>CHEMBL3307651</td>\n",
       "      <td>NaN</td>\n",
       "    </tr>\n",
       "    <tr>\n",
       "      <th>4</th>\n",
       "      <td>CHEMBL4218062</td>\n",
       "      <td>NaN</td>\n",
       "      <td>None</td>\n",
       "      <td>523.59</td>\n",
       "      <td>1</td>\n",
       "      <td>2.81</td>\n",
       "      <td>30</td>\n",
       "      <td>CN(C)CCCNc1cc2nc(/C=C3\\C(=O)Nc4cc(N5CCN(C)CC5)...</td>\n",
       "      <td>IC50</td>\n",
       "      <td>'='</td>\n",
       "      <td>...</td>\n",
       "      <td>A549</td>\n",
       "      <td>Homo sapiens</td>\n",
       "      <td>CELL-LINE</td>\n",
       "      <td>CHEMBL4177752</td>\n",
       "      <td>1</td>\n",
       "      <td>Scientific Literature</td>\n",
       "      <td>J Med Chem</td>\n",
       "      <td>2018.0</td>\n",
       "      <td>CHEMBL3307651</td>\n",
       "      <td>NaN</td>\n",
       "    </tr>\n",
       "  </tbody>\n",
       "</table>\n",
       "<p>5 rows × 45 columns</p>\n",
       "</div>"
      ],
      "text/plain": [
       "  Molecule ChEMBL ID Molecule Name Molecule Max Phase Molecular Weight  \\\n",
       "0      CHEMBL4213237           NaN               None           286.46   \n",
       "1      CHEMBL4204703           NaN               None           308.39   \n",
       "2       CHEMBL136689           NaN               None           389.42   \n",
       "3       CHEMBL483688           NaN               None           529.02   \n",
       "4      CHEMBL4218062           NaN               None           523.59   \n",
       "\n",
       "  #RO5 Violations AlogP    Compound Key  \\\n",
       "0               0  2.19             7'e   \n",
       "1               0  3.34     13, SLV 320   \n",
       "2               0  2.96  15, SCH 442416   \n",
       "3               1  2.65     16, PSB 603   \n",
       "4               1  2.81              30   \n",
       "\n",
       "                                              Smiles Standard Type  \\\n",
       "0              CCCCCCCCCCCNC[C@@H]1OC[C@H](N)[C@H]1O          IC50   \n",
       "1    O[C@H]1CC[C@H](Nc2nc(-c3ccccc3)nc3[nH]ccc23)CC1      Activity   \n",
       "2     COc1ccc(CCCn2ncc3c2nc(N)n2nc(-c4ccco4)nc32)cc1      Activity   \n",
       "3  CCCn1c(=O)[nH]c2nc(-c3ccc(S(=O)(=O)N4CCN(c5ccc...      Activity   \n",
       "4  CN(C)CCCNc1cc2nc(/C=C3\\C(=O)Nc4cc(N5CCN(C)CC5)...          IC50   \n",
       "\n",
       "  Standard Relation  ...  Target Name Target Organism  Target Type  \\\n",
       "0               '='  ...         A549    Homo sapiens    CELL-LINE   \n",
       "1               '='  ...         A549    Homo sapiens    CELL-LINE   \n",
       "2               '='  ...         A549    Homo sapiens    CELL-LINE   \n",
       "3               '='  ...         A549    Homo sapiens    CELL-LINE   \n",
       "4               '='  ...         A549    Homo sapiens    CELL-LINE   \n",
       "\n",
       "  Document ChEMBL ID Source ID     Source Description      Document Journal  \\\n",
       "0      CHEMBL4184090         1  Scientific Literature  Bioorg Med Chem Lett   \n",
       "1      CHEMBL4184095         1  Scientific Literature  Bioorg Med Chem Lett   \n",
       "2      CHEMBL4184095         1  Scientific Literature  Bioorg Med Chem Lett   \n",
       "3      CHEMBL4184095         1  Scientific Literature  Bioorg Med Chem Lett   \n",
       "4      CHEMBL4177752         1  Scientific Literature            J Med Chem   \n",
       "\n",
       "   Document Year  Cell ChEMBL ID  Properties  \n",
       "0         2018.0   CHEMBL3307651         NaN  \n",
       "1         2018.0   CHEMBL3307651         NaN  \n",
       "2         2018.0   CHEMBL3307651         NaN  \n",
       "3         2018.0   CHEMBL3307651         NaN  \n",
       "4         2018.0   CHEMBL3307651         NaN  \n",
       "\n",
       "[5 rows x 45 columns]"
      ]
     },
     "execution_count": 306,
     "metadata": {},
     "output_type": "execute_result"
    }
   ],
   "source": [
    "data = pd.read_csv('/home/labhhc/Documents/Project/CADD_package/Data_preprocess/Data/CHEMBL392.csv', sep=';')\n",
    "data.head(5)"
   ]
  },
  {
   "cell_type": "code",
   "execution_count": 307,
   "id": "fc93fa18-0298-4aa8-8287-ffccfae4d731",
   "metadata": {},
   "outputs": [
    {
     "data": {
      "text/plain": [
       "Index(['Molecule ChEMBL ID', 'Smiles', 'Standard Type', 'Standard Relation',\n",
       "       'Standard Value', 'Standard Units', 'pChEMBL Value',\n",
       "       'Data Validity Comment', 'Assay Type', 'Assay Description',\n",
       "       'Assay Organism', 'Assay Variant Mutation', 'Target Name',\n",
       "       'Target Organism', 'Document Journal'],\n",
       "      dtype='object')"
      ]
     },
     "execution_count": 307,
     "metadata": {},
     "output_type": "execute_result"
    }
   ],
   "source": [
    "df.columns"
   ]
  },
  {
   "cell_type": "markdown",
   "id": "ecf39cfc-59f6-449d-8798-7c94f2afe602",
   "metadata": {},
   "source": [
    "# 2. FLOW"
   ]
  },
  {
   "cell_type": "code",
   "execution_count": 308,
   "id": "fc952a96-df19-4bec-9ecf-43347e7f7501",
   "metadata": {},
   "outputs": [],
   "source": [
    "columns = ['Molecule ChEMBL ID', 'Smiles', 'Standard Type', 'Standard Relation', 'Standard Value', 'Standard Units', 'pChEMBL Value', 'Data Validity Comment',\n",
    "          'Assay Type', 'Assay Description','Assay Organism', 'Assay Variant Mutation','Target Name','Target Organism', 'Document Journal']\n",
    "\n",
    "df = data[columns]"
   ]
  },
  {
   "cell_type": "markdown",
   "id": "a1fe3066-3dd1-4a04-aec0-61d9dd9ab5bc",
   "metadata": {},
   "source": [
    "## 2.1 Target filter"
   ]
  },
  {
   "cell_type": "code",
   "execution_count": 309,
   "id": "4b775e39-e82c-493c-8392-526aee0c96d6",
   "metadata": {},
   "outputs": [
    {
     "data": {
      "text/plain": [
       "array(['A549'], dtype=object)"
      ]
     },
     "execution_count": 309,
     "metadata": {},
     "output_type": "execute_result"
    }
   ],
   "source": [
    "df['Target Name'].unique()"
   ]
  },
  {
   "cell_type": "code",
   "execution_count": 310,
   "id": "7203dcdd-9fb6-4b59-ba67-8f98b4118151",
   "metadata": {},
   "outputs": [
    {
     "data": {
      "text/plain": [
       "array(['Homo sapiens'], dtype=object)"
      ]
     },
     "execution_count": 310,
     "metadata": {},
     "output_type": "execute_result"
    }
   ],
   "source": [
    "df['Target Organism'].unique()"
   ]
  },
  {
   "cell_type": "code",
   "execution_count": 311,
   "id": "1470c03a-4458-4f88-ab18-cb67441ea85a",
   "metadata": {},
   "outputs": [],
   "source": [
    "def target_filter(data, name_col, target_name, org_col, target_org):\n",
    "    df= data[data[name_col]==target_name]\n",
    "    df = df[df[org_col]==target_org]\n",
    "    return df\n",
    "df1 = target_filter(data = df, name_col = 'Target Name', target_name ='A549', org_col='Target Organism', target_org = 'Homo sapiens')"
   ]
  },
  {
   "cell_type": "markdown",
   "id": "c72767ab-566b-4b2a-9b0f-c38c3a876024",
   "metadata": {
    "id": "28fbcc51-6d71-4e40-8276-1d02b0f7097d",
    "outputId": "c91a7db4-8318-4958-9f24-79b2b031e13f"
   },
   "source": [
    "## 2.2. Target value standardize (Standard)"
   ]
  },
  {
   "cell_type": "code",
   "execution_count": 312,
   "id": "d4ddf4ec-d358-4de6-943a-726a4ccdccbd",
   "metadata": {},
   "outputs": [],
   "source": [
    "class Target_standardize:\n",
    "    def __init__(self, data, type_col, unit_col, active_col, relate_col, type_arg,equal_only = False, thresh = 7):\n",
    "        self.data = data.reset_index(drop=True)\n",
    "        self.type_col = type_col\n",
    "        self.unit_col = unit_col\n",
    "        self.active_col = active_col\n",
    "        self.relate_col = relate_col\n",
    "        self.type_arg = type_arg\n",
    "        self.equal_only = equal_only\n",
    "        self.thresh = thresh\n",
    "      \n",
    "    def standardize_value(self, data, type_col, type_arg, unit_col):\n",
    "        df = data[data[type_col]==type_arg]\n",
    "        df= df.dropna(subset =unit_col)\n",
    "        df.reset_index(drop=True, inplace = True)\n",
    "        type = ['μM','µM', 'nM', 'mM', 'M', 'nmol/l']\n",
    "        idx = []\n",
    "        for key, value in enumerate(df[unit_col]):\n",
    "            if value in type:\n",
    "                idx.append(key)\n",
    "        df = df.iloc[idx,:]\n",
    "        return df\n",
    "    \n",
    "    def convert_activity(self, data, active_col, unit_col):\n",
    "        df = data.copy()\n",
    "        df['pChEMBL'] = np.zeros(len(df))\n",
    "        #unit = df['Unit'].unique()\n",
    "\n",
    "        for key, value in enumerate(df[unit_col]):\n",
    "            if value == 'μM':\n",
    "                df.loc[key, 'pChEMBL'] = -np.log10(df.loc[key, active_col]*1e-6)\n",
    "            elif value  == 'µM':\n",
    "                df.loc[key, 'pChEMBL'] = -np.log10(df.loc[key, active_col]*1e-6)\n",
    "            elif value  == 'nM':\n",
    "                df.loc[key, 'pChEMBL'] = -np.log10(df.loc[key, active_col]*1e-9)\n",
    "            elif value  == 'nmol/l':\n",
    "                df.loc[key, 'pChEMBL'] = -np.log10(df.loc[key, active_col]*1e-9)\n",
    "            elif value  == 'mM':\n",
    "                df.loc[key, 'pChEMBL'] = -np.log10(df.loc[key, active_col]*1e-3)\n",
    "            elif value  == 'M':\n",
    "                df.loc[key, 'pChEMBL'] = -np.log10(df.loc[key, active_col]*1)\n",
    "            elif value  == 'no unit':\n",
    "                df.loc[key, 'pChEMBL'] = -df.loc[key, active_col]\n",
    "        return df\n",
    "    \n",
    "    \n",
    "    def standardize_relation(self, data,relate_col,  equal_only, thresh):\n",
    "        df = data.copy()\n",
    "        df.dropna(subset = relate_col, inplace = True)\n",
    "        if equal_only == True:\n",
    "            print('SELECTING ONLY EQUAL')\n",
    "            df = df[df[relate_col]==\"'='\"]\n",
    "            \n",
    "        else:\n",
    "            print('HANDLING')\n",
    "            df_big = df[(df[relate_col] == \"'>'\") | (df[relate_col] == \"'>='\")]\n",
    "            df_small = df[(df[relate_col] == \"'<'\") | (df[relate_col] == \"'<='\")]\n",
    "            df_equal = df[df[relate_col]==\"'='\"]\n",
    "                \n",
    "            #Drop pCHEMBL < thresh for df_big\n",
    "            drop_idx = df_big[df_big[\"pChEMBL\"] < thresh].index\n",
    "            df_big.drop(drop_idx, inplace = True)\n",
    "                \n",
    "            #Drop pCHEMBL > thresh for df_small\n",
    "            drop_idx = df_small[df_small[\"pChEMBL\"] > thresh].index\n",
    "            df_small.drop(drop_idx, inplace = True)\n",
    "                \n",
    "            df = pd.concat((df_equal, df_small, df_big), axis = 0)\n",
    "        return df\n",
    "                  \n",
    "    def fit(self):\n",
    "        print(\"Number of data before standardizing:\", self.data.shape[0])\n",
    "        df = self.standardize_value(data=self.data, type_col=self.type_col, type_arg=self.type_arg, unit_col=self.unit_col)\n",
    "        df.reset_index(drop=True, inplace = True)\n",
    "        print(\"Number of data after select unit:\", df.shape[0])\n",
    "        #display(df.head(5))\n",
    "        df2 = self.convert_activity(data=df, active_col=self.active_col, unit_col = self.unit_col)\n",
    "        df2.reset_index(drop=True, inplace = True)\n",
    "        #display(df2.head(5))\n",
    "        df3 = self.standardize_relation(data=df2,relate_col=self.relate_col,  equal_only=self.equal_only, thresh=self.thresh)\n",
    "        self.df = df3\n",
    "        print(\"Number of data after standardizing:\", self.df.shape[0])\n",
    "        \n",
    "        "
   ]
  },
  {
   "cell_type": "code",
   "execution_count": 313,
   "id": "e8de6e4f-5347-479c-b576-e5cefc9e2065",
   "metadata": {},
   "outputs": [
    {
     "name": "stdout",
     "output_type": "stream",
     "text": [
      "Number of data before standardizing: 122196\n",
      "Number of data after select unit: 39634\n"
     ]
    },
    {
     "name": "stderr",
     "output_type": "stream",
     "text": [
      "/tmp/ipykernel_675207/1065433019.py:35: RuntimeWarning: divide by zero encountered in log10\n",
      "  df.loc[key, 'pChEMBL'] = -np.log10(df.loc[key, active_col]*1e-9)\n"
     ]
    },
    {
     "name": "stdout",
     "output_type": "stream",
     "text": [
      "HANDLING\n",
      "Number of data after standardizing: 30581\n"
     ]
    },
    {
     "name": "stderr",
     "output_type": "stream",
     "text": [
      "/tmp/ipykernel_675207/1065433019.py:62: SettingWithCopyWarning: \n",
      "A value is trying to be set on a copy of a slice from a DataFrame\n",
      "\n",
      "See the caveats in the documentation: https://pandas.pydata.org/pandas-docs/stable/user_guide/indexing.html#returning-a-view-versus-a-copy\n",
      "  df_big.drop(drop_idx, inplace = True)\n",
      "/tmp/ipykernel_675207/1065433019.py:66: SettingWithCopyWarning: \n",
      "A value is trying to be set on a copy of a slice from a DataFrame\n",
      "\n",
      "See the caveats in the documentation: https://pandas.pydata.org/pandas-docs/stable/user_guide/indexing.html#returning-a-view-versus-a-copy\n",
      "  df_small.drop(drop_idx, inplace = True)\n"
     ]
    }
   ],
   "source": [
    "target = Target_standardize(data =df1, type_col='Standard Type', unit_col='Standard Units', active_col='Standard Value', \n",
    "                         relate_col='Standard Relation', type_arg ='IC50',equal_only = False, thresh = 7)\n",
    "target.fit()"
   ]
  },
  {
   "cell_type": "code",
   "execution_count": 314,
   "id": "62ca578e-188f-4b4c-8f31-daec11fc492f",
   "metadata": {},
   "outputs": [],
   "source": [
    "df2 = target.df"
   ]
  },
  {
   "cell_type": "markdown",
   "id": "31e268cc-42cc-43d1-af8b-05098e33b5e4",
   "metadata": {},
   "source": [
    "## 2.3. Assay"
   ]
  },
  {
   "cell_type": "code",
   "execution_count": 315,
   "id": "fc4d80ec-a460-4395-a1ed-b8842ce3b8f9",
   "metadata": {},
   "outputs": [],
   "source": [
    "class assay_curate:\n",
    "    def __init__(self,data, type_col, org_col,des_col, type_arg='F', org_arg='Homo sapiens', kw = 'MTT'):\n",
    "        self.data = data\n",
    "        self.type_col = type_col\n",
    "        self.org_col = org_col\n",
    "        self.des_col = des_col\n",
    "        self.type_arg= type_arg\n",
    "        self.org_arg= org_arg\n",
    "        self.kw = kw \n",
    "    \n",
    "    def search_kw(self, data,kw, des_col):\n",
    "        index = []\n",
    "        for key, value in enumerate(data[des_col]):\n",
    "            if kw in value:\n",
    "                index.append(key)\n",
    "        return data.iloc[index,:]\n",
    "    \n",
    "    def curate(self):\n",
    "        print(\"Number of data befor standardizing:\", self.data.shape[0])\n",
    "        df = self.data[self.data[self.type_col]==self.type_arg]\n",
    "        print(\"Number of data after choosing assay type:\", df.shape[0])\n",
    "        df2 = df[df[self.org_col]==self.org_arg]\n",
    "        print(\"Number of data after choosing assay organism:\", df2.shape[0])\n",
    "        df3 = self.search_kw(data=df2, kw = self.kw, des_col = self.des_col)\n",
    "        print(\"Number of data after curating:\", df3.shape[0])\n",
    "        self.df = df3"
   ]
  },
  {
   "cell_type": "code",
   "execution_count": 316,
   "id": "be589c5e-7163-4cfa-9870-e5755592f6d8",
   "metadata": {},
   "outputs": [
    {
     "name": "stdout",
     "output_type": "stream",
     "text": [
      "Number of data befor standardizing: 30581\n",
      "Number of data after choosing assay type: 30008\n",
      "Number of data after choosing assay organism: 30004\n",
      "Number of data after curating: 17948\n"
     ]
    }
   ],
   "source": [
    "assay = assay_curate(data=df2, type_col=\"Assay Type\", org_col=\"Assay Organism\",des_col='Assay Description', \n",
    "                     type_arg='F', org_arg='Homo sapiens', kw = 'MTT')\n",
    "\n",
    "assay.curate()"
   ]
  },
  {
   "cell_type": "code",
   "execution_count": 317,
   "id": "ddfa356a-620a-4c0c-ae18-004c3bd2d8f0",
   "metadata": {},
   "outputs": [
    {
     "data": {
      "text/plain": [
       "(17948, 16)"
      ]
     },
     "execution_count": 317,
     "metadata": {},
     "output_type": "execute_result"
    }
   ],
   "source": [
    "df3 = assay.df\n",
    "df3.shape"
   ]
  },
  {
   "cell_type": "markdown",
   "id": "YTvfa-Fb0MIs",
   "metadata": {
    "id": "YTvfa-Fb0MIs"
   },
   "source": [
    "## 2.4 Smiles curated"
   ]
  },
  {
   "cell_type": "code",
   "execution_count": 318,
   "id": "3bf92773-f7a6-4987-a5c4-7870205e9323",
   "metadata": {},
   "outputs": [],
   "source": [
    "class smile_curate:\n",
    "    def __init__(self, data, smile_col, pchem_col, keep = 'best'):\n",
    "        self.data = data\n",
    "        self.smile_col = smile_col\n",
    "        self.pchem_col = pchem_col\n",
    "        self.keep = keep\n",
    "    def smile_norm(data, smile_col):\n",
    "        df = data.dropna(subset = smile_col)\n",
    "        df['Canonical_Smiles'] = df[smile_col].apply(Chem.CanonSmiles)\n",
    "        return df\n",
    "    def curate(self):\n",
    "        df = smile_norm(data=self.data, smile_col=self.smile_col)\n",
    "        if self.keep == 'best':\n",
    "            df = df.sort_values(by=self.pchem_col, ascending=False)\n",
    "            df_dropdup = df.drop_duplicates(subset=['Canonical_Smiles'], keep=\"first\")\n",
    "        elif self.keep == 'worst':\n",
    "            df = df.sort_values(by=self.pchem_col, ascending=True)\n",
    "            df_dropdup = df.drop_duplicates(subset=['Canonical_Smiles'], keep=\"first\")\n",
    "           \n",
    "        print(df_dropdup.shape)\n",
    "        self.df = df_dropdup"
   ]
  },
  {
   "cell_type": "code",
   "execution_count": 319,
   "id": "3e9f6a7e-6d20-4dff-814e-f05a993c3ab6",
   "metadata": {},
   "outputs": [
    {
     "name": "stdout",
     "output_type": "stream",
     "text": [
      "(16292, 17)\n"
     ]
    }
   ],
   "source": [
    "smile = smile_curate(data=df3, smile_col='Smiles', pchem_col='pChEMBL', keep = 'best')\n",
    "smile.curate()"
   ]
  },
  {
   "cell_type": "code",
   "execution_count": 320,
   "id": "5f53dd07-f496-4c8b-88c1-c8ac4ee04567",
   "metadata": {},
   "outputs": [],
   "source": [
    "df4 = smile.df"
   ]
  },
  {
   "cell_type": "code",
   "execution_count": 321,
   "id": "21da336a-be83-4a27-81c6-d7dc32e2535f",
   "metadata": {},
   "outputs": [
    {
     "data": {
      "text/html": [
       "<div>\n",
       "<style scoped>\n",
       "    .dataframe tbody tr th:only-of-type {\n",
       "        vertical-align: middle;\n",
       "    }\n",
       "\n",
       "    .dataframe tbody tr th {\n",
       "        vertical-align: top;\n",
       "    }\n",
       "\n",
       "    .dataframe thead th {\n",
       "        text-align: right;\n",
       "    }\n",
       "</style>\n",
       "<table border=\"1\" class=\"dataframe\">\n",
       "  <thead>\n",
       "    <tr style=\"text-align: right;\">\n",
       "      <th></th>\n",
       "      <th>Molecule ChEMBL ID</th>\n",
       "      <th>Smiles</th>\n",
       "      <th>Standard Type</th>\n",
       "      <th>Standard Relation</th>\n",
       "      <th>Standard Value</th>\n",
       "      <th>Standard Units</th>\n",
       "      <th>pChEMBL Value</th>\n",
       "      <th>Data Validity Comment</th>\n",
       "      <th>Assay Type</th>\n",
       "      <th>Assay Description</th>\n",
       "      <th>Assay Organism</th>\n",
       "      <th>Assay Variant Mutation</th>\n",
       "      <th>Target Name</th>\n",
       "      <th>Target Organism</th>\n",
       "      <th>Document Journal</th>\n",
       "      <th>pChEMBL</th>\n",
       "      <th>Canonical_Smiles</th>\n",
       "    </tr>\n",
       "  </thead>\n",
       "  <tbody>\n",
       "    <tr>\n",
       "      <th>5001</th>\n",
       "      <td>CHEMBL314934</td>\n",
       "      <td>COc1ccc(-c2cc3c(OC)cc(OC)cc3nc2O)cc1</td>\n",
       "      <td>IC50</td>\n",
       "      <td>'='</td>\n",
       "      <td>0.000</td>\n",
       "      <td>nM</td>\n",
       "      <td>NaN</td>\n",
       "      <td>Outside typical range</td>\n",
       "      <td>F</td>\n",
       "      <td>Cytotoxicity against A549 nonsmall lung cell l...</td>\n",
       "      <td>Homo sapiens</td>\n",
       "      <td>NaN</td>\n",
       "      <td>A549</td>\n",
       "      <td>Homo sapiens</td>\n",
       "      <td>J Med Chem</td>\n",
       "      <td>inf</td>\n",
       "      <td>COc1ccc(-c2cc3c(OC)cc(OC)cc3nc2O)cc1</td>\n",
       "    </tr>\n",
       "    <tr>\n",
       "      <th>26804</th>\n",
       "      <td>CHEMBL455213</td>\n",
       "      <td>CC[C@H](C)[C@H](NC(=O)[C@H]1CCCCN1C)C(=O)N(COC...</td>\n",
       "      <td>IC50</td>\n",
       "      <td>'='</td>\n",
       "      <td>0.013</td>\n",
       "      <td>nM</td>\n",
       "      <td>10.89</td>\n",
       "      <td>NaN</td>\n",
       "      <td>F</td>\n",
       "      <td>Cytotoxicity against human A549 cells after 72...</td>\n",
       "      <td>Homo sapiens</td>\n",
       "      <td>NaN</td>\n",
       "      <td>A549</td>\n",
       "      <td>Homo sapiens</td>\n",
       "      <td>Bioorg Med Chem Lett</td>\n",
       "      <td>10.886057</td>\n",
       "      <td>CC[C@H](C)[C@H](NC(=O)[C@H]1CCCCN1C)C(=O)N(COC...</td>\n",
       "    </tr>\n",
       "    <tr>\n",
       "      <th>13070</th>\n",
       "      <td>CHEMBL2324626</td>\n",
       "      <td>COC(=O)c1cc(NC(=O)c2cc(-c3ccc(NC(=O)CCCOc4cc5c...</td>\n",
       "      <td>IC50</td>\n",
       "      <td>'='</td>\n",
       "      <td>0.019</td>\n",
       "      <td>nM</td>\n",
       "      <td>10.72</td>\n",
       "      <td>NaN</td>\n",
       "      <td>F</td>\n",
       "      <td>Cytotoxicity against human A549 cells after 96...</td>\n",
       "      <td>Homo sapiens</td>\n",
       "      <td>NaN</td>\n",
       "      <td>A549</td>\n",
       "      <td>Homo sapiens</td>\n",
       "      <td>J Med Chem</td>\n",
       "      <td>10.721246</td>\n",
       "      <td>COC(=O)c1cc(NC(=O)c2cc(-c3ccc(NC(=O)CCCOc4cc5c...</td>\n",
       "    </tr>\n",
       "    <tr>\n",
       "      <th>13459</th>\n",
       "      <td>CHEMBL4528553</td>\n",
       "      <td>C[C@@H](O)[C@@]12O[C@]13c1cc(O)c4c(c1N[C@H]2C#...</td>\n",
       "      <td>IC50</td>\n",
       "      <td>'='</td>\n",
       "      <td>0.020</td>\n",
       "      <td>nM</td>\n",
       "      <td>10.70</td>\n",
       "      <td>NaN</td>\n",
       "      <td>F</td>\n",
       "      <td>Cytotoxicity against human A549 cells assessed...</td>\n",
       "      <td>Homo sapiens</td>\n",
       "      <td>NaN</td>\n",
       "      <td>A549</td>\n",
       "      <td>Homo sapiens</td>\n",
       "      <td>J Nat Prod</td>\n",
       "      <td>10.698970</td>\n",
       "      <td>C[C@@H](O)[C@@]12O[C@]13c1cc(O)c4c(c1N[C@H]2C#...</td>\n",
       "    </tr>\n",
       "    <tr>\n",
       "      <th>13068</th>\n",
       "      <td>CHEMBL2324630</td>\n",
       "      <td>COC(=O)c1cc(-c2ccc(NC(=O)c3nc(NC(=O)CCCOc4cc5c...</td>\n",
       "      <td>IC50</td>\n",
       "      <td>'='</td>\n",
       "      <td>0.034</td>\n",
       "      <td>nM</td>\n",
       "      <td>10.47</td>\n",
       "      <td>NaN</td>\n",
       "      <td>F</td>\n",
       "      <td>Cytotoxicity against human A549 cells after 96...</td>\n",
       "      <td>Homo sapiens</td>\n",
       "      <td>NaN</td>\n",
       "      <td>A549</td>\n",
       "      <td>Homo sapiens</td>\n",
       "      <td>J Med Chem</td>\n",
       "      <td>10.468521</td>\n",
       "      <td>COC(=O)c1cc(-c2ccc(NC(=O)c3nc(NC(=O)CCCOc4cc5c...</td>\n",
       "    </tr>\n",
       "  </tbody>\n",
       "</table>\n",
       "</div>"
      ],
      "text/plain": [
       "      Molecule ChEMBL ID                                             Smiles  \\\n",
       "5001        CHEMBL314934               COc1ccc(-c2cc3c(OC)cc(OC)cc3nc2O)cc1   \n",
       "26804       CHEMBL455213  CC[C@H](C)[C@H](NC(=O)[C@H]1CCCCN1C)C(=O)N(COC...   \n",
       "13070      CHEMBL2324626  COC(=O)c1cc(NC(=O)c2cc(-c3ccc(NC(=O)CCCOc4cc5c...   \n",
       "13459      CHEMBL4528553  C[C@@H](O)[C@@]12O[C@]13c1cc(O)c4c(c1N[C@H]2C#...   \n",
       "13068      CHEMBL2324630  COC(=O)c1cc(-c2ccc(NC(=O)c3nc(NC(=O)CCCOc4cc5c...   \n",
       "\n",
       "      Standard Type Standard Relation  Standard Value Standard Units  \\\n",
       "5001           IC50               '='           0.000             nM   \n",
       "26804          IC50               '='           0.013             nM   \n",
       "13070          IC50               '='           0.019             nM   \n",
       "13459          IC50               '='           0.020             nM   \n",
       "13068          IC50               '='           0.034             nM   \n",
       "\n",
       "       pChEMBL Value  Data Validity Comment Assay Type  \\\n",
       "5001             NaN  Outside typical range          F   \n",
       "26804          10.89                    NaN          F   \n",
       "13070          10.72                    NaN          F   \n",
       "13459          10.70                    NaN          F   \n",
       "13068          10.47                    NaN          F   \n",
       "\n",
       "                                       Assay Description Assay Organism  \\\n",
       "5001   Cytotoxicity against A549 nonsmall lung cell l...   Homo sapiens   \n",
       "26804  Cytotoxicity against human A549 cells after 72...   Homo sapiens   \n",
       "13070  Cytotoxicity against human A549 cells after 96...   Homo sapiens   \n",
       "13459  Cytotoxicity against human A549 cells assessed...   Homo sapiens   \n",
       "13068  Cytotoxicity against human A549 cells after 96...   Homo sapiens   \n",
       "\n",
       "       Assay Variant Mutation Target Name Target Organism  \\\n",
       "5001                      NaN        A549    Homo sapiens   \n",
       "26804                     NaN        A549    Homo sapiens   \n",
       "13070                     NaN        A549    Homo sapiens   \n",
       "13459                     NaN        A549    Homo sapiens   \n",
       "13068                     NaN        A549    Homo sapiens   \n",
       "\n",
       "           Document Journal    pChEMBL  \\\n",
       "5001             J Med Chem        inf   \n",
       "26804  Bioorg Med Chem Lett  10.886057   \n",
       "13070            J Med Chem  10.721246   \n",
       "13459            J Nat Prod  10.698970   \n",
       "13068            J Med Chem  10.468521   \n",
       "\n",
       "                                        Canonical_Smiles  \n",
       "5001                COc1ccc(-c2cc3c(OC)cc(OC)cc3nc2O)cc1  \n",
       "26804  CC[C@H](C)[C@H](NC(=O)[C@H]1CCCCN1C)C(=O)N(COC...  \n",
       "13070  COC(=O)c1cc(NC(=O)c2cc(-c3ccc(NC(=O)CCCOc4cc5c...  \n",
       "13459  C[C@@H](O)[C@@]12O[C@]13c1cc(O)c4c(c1N[C@H]2C#...  \n",
       "13068  COC(=O)c1cc(-c2ccc(NC(=O)c3nc(NC(=O)CCCOc4cc5c...  "
      ]
     },
     "execution_count": 321,
     "metadata": {},
     "output_type": "execute_result"
    }
   ],
   "source": [
    "df4.head()"
   ]
  },
  {
   "cell_type": "code",
   "execution_count": 322,
   "id": "0554b632-4d94-4aa7-bf16-965e7a3f0d59",
   "metadata": {},
   "outputs": [],
   "source": [
    "df4.to_csv('A549.csv')"
   ]
  },
  {
   "cell_type": "code",
   "execution_count": null,
   "id": "7b8c8a1b-bf63-4554-bf93-dcca4f20b229",
   "metadata": {},
   "outputs": [],
   "source": []
  }
 ],
 "metadata": {
  "colab": {
   "provenance": []
  },
  "kernelspec": {
   "display_name": "Python 3 (ipykernel)",
   "language": "python",
   "name": "python3"
  },
  "language_info": {
   "codemirror_mode": {
    "name": "ipython",
    "version": 3
   },
   "file_extension": ".py",
   "mimetype": "text/x-python",
   "name": "python",
   "nbconvert_exporter": "python",
   "pygments_lexer": "ipython3",
   "version": "3.9.16"
  }
 },
 "nbformat": 4,
 "nbformat_minor": 5
}
