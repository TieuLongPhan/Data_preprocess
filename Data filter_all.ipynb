{
 "cells": [
  {
   "cell_type": "code",
   "execution_count": 346,
   "id": "phPyfrenh42L",
   "metadata": {
    "id": "phPyfrenh42L"
   },
   "outputs": [],
   "source": [
    "import pandas as pd"
   ]
  },
  {
   "cell_type": "markdown",
   "id": "d5d0f6b6-8d24-4a7e-8695-ea691d452e0b",
   "metadata": {},
   "source": [
    "# 1. Load data"
   ]
  },
  {
   "cell_type": "code",
   "execution_count": 482,
   "id": "bdc4dea3-de98-435d-adee-eeec92d5433c",
   "metadata": {},
   "outputs": [
    {
     "data": {
      "text/html": [
       "<div>\n",
       "<style scoped>\n",
       "    .dataframe tbody tr th:only-of-type {\n",
       "        vertical-align: middle;\n",
       "    }\n",
       "\n",
       "    .dataframe tbody tr th {\n",
       "        vertical-align: top;\n",
       "    }\n",
       "\n",
       "    .dataframe thead th {\n",
       "        text-align: right;\n",
       "    }\n",
       "</style>\n",
       "<table border=\"1\" class=\"dataframe\">\n",
       "  <thead>\n",
       "    <tr style=\"text-align: right;\">\n",
       "      <th></th>\n",
       "      <th>Molecule ChEMBL ID</th>\n",
       "      <th>Molecule Name</th>\n",
       "      <th>Molecule Max Phase</th>\n",
       "      <th>Molecular Weight</th>\n",
       "      <th>#RO5 Violations</th>\n",
       "      <th>AlogP</th>\n",
       "      <th>Compound Key</th>\n",
       "      <th>Smiles</th>\n",
       "      <th>Standard Type</th>\n",
       "      <th>Standard Relation</th>\n",
       "      <th>...</th>\n",
       "      <th>Target Name</th>\n",
       "      <th>Target Organism</th>\n",
       "      <th>Target Type</th>\n",
       "      <th>Document ChEMBL ID</th>\n",
       "      <th>Source ID</th>\n",
       "      <th>Source Description</th>\n",
       "      <th>Document Journal</th>\n",
       "      <th>Document Year</th>\n",
       "      <th>Cell ChEMBL ID</th>\n",
       "      <th>Properties</th>\n",
       "    </tr>\n",
       "  </thead>\n",
       "  <tbody>\n",
       "    <tr>\n",
       "      <th>0</th>\n",
       "      <td>CHEMBL4213237</td>\n",
       "      <td>NaN</td>\n",
       "      <td>None</td>\n",
       "      <td>286.46</td>\n",
       "      <td>0</td>\n",
       "      <td>2.19</td>\n",
       "      <td>7'e</td>\n",
       "      <td>CCCCCCCCCCCNC[C@@H]1OC[C@H](N)[C@H]1O</td>\n",
       "      <td>IC50</td>\n",
       "      <td>'='</td>\n",
       "      <td>...</td>\n",
       "      <td>A549</td>\n",
       "      <td>Homo sapiens</td>\n",
       "      <td>CELL-LINE</td>\n",
       "      <td>CHEMBL4184090</td>\n",
       "      <td>1</td>\n",
       "      <td>Scientific Literature</td>\n",
       "      <td>Bioorg Med Chem Lett</td>\n",
       "      <td>2018.0</td>\n",
       "      <td>CHEMBL3307651</td>\n",
       "      <td>NaN</td>\n",
       "    </tr>\n",
       "    <tr>\n",
       "      <th>1</th>\n",
       "      <td>CHEMBL4204703</td>\n",
       "      <td>NaN</td>\n",
       "      <td>None</td>\n",
       "      <td>308.39</td>\n",
       "      <td>0</td>\n",
       "      <td>3.34</td>\n",
       "      <td>13, SLV 320</td>\n",
       "      <td>O[C@H]1CC[C@H](Nc2nc(-c3ccccc3)nc3[nH]ccc23)CC1</td>\n",
       "      <td>Activity</td>\n",
       "      <td>'='</td>\n",
       "      <td>...</td>\n",
       "      <td>A549</td>\n",
       "      <td>Homo sapiens</td>\n",
       "      <td>CELL-LINE</td>\n",
       "      <td>CHEMBL4184095</td>\n",
       "      <td>1</td>\n",
       "      <td>Scientific Literature</td>\n",
       "      <td>Bioorg Med Chem Lett</td>\n",
       "      <td>2018.0</td>\n",
       "      <td>CHEMBL3307651</td>\n",
       "      <td>NaN</td>\n",
       "    </tr>\n",
       "    <tr>\n",
       "      <th>2</th>\n",
       "      <td>CHEMBL136689</td>\n",
       "      <td>NaN</td>\n",
       "      <td>None</td>\n",
       "      <td>389.42</td>\n",
       "      <td>0</td>\n",
       "      <td>2.96</td>\n",
       "      <td>15, SCH 442416</td>\n",
       "      <td>COc1ccc(CCCn2ncc3c2nc(N)n2nc(-c4ccco4)nc32)cc1</td>\n",
       "      <td>Activity</td>\n",
       "      <td>'='</td>\n",
       "      <td>...</td>\n",
       "      <td>A549</td>\n",
       "      <td>Homo sapiens</td>\n",
       "      <td>CELL-LINE</td>\n",
       "      <td>CHEMBL4184095</td>\n",
       "      <td>1</td>\n",
       "      <td>Scientific Literature</td>\n",
       "      <td>Bioorg Med Chem Lett</td>\n",
       "      <td>2018.0</td>\n",
       "      <td>CHEMBL3307651</td>\n",
       "      <td>NaN</td>\n",
       "    </tr>\n",
       "    <tr>\n",
       "      <th>3</th>\n",
       "      <td>CHEMBL483688</td>\n",
       "      <td>NaN</td>\n",
       "      <td>None</td>\n",
       "      <td>529.02</td>\n",
       "      <td>1</td>\n",
       "      <td>2.65</td>\n",
       "      <td>16, PSB 603</td>\n",
       "      <td>CCCn1c(=O)[nH]c2nc(-c3ccc(S(=O)(=O)N4CCN(c5ccc...</td>\n",
       "      <td>Activity</td>\n",
       "      <td>'='</td>\n",
       "      <td>...</td>\n",
       "      <td>A549</td>\n",
       "      <td>Homo sapiens</td>\n",
       "      <td>CELL-LINE</td>\n",
       "      <td>CHEMBL4184095</td>\n",
       "      <td>1</td>\n",
       "      <td>Scientific Literature</td>\n",
       "      <td>Bioorg Med Chem Lett</td>\n",
       "      <td>2018.0</td>\n",
       "      <td>CHEMBL3307651</td>\n",
       "      <td>NaN</td>\n",
       "    </tr>\n",
       "    <tr>\n",
       "      <th>4</th>\n",
       "      <td>CHEMBL4218062</td>\n",
       "      <td>NaN</td>\n",
       "      <td>None</td>\n",
       "      <td>523.59</td>\n",
       "      <td>1</td>\n",
       "      <td>2.81</td>\n",
       "      <td>30</td>\n",
       "      <td>CN(C)CCCNc1cc2nc(/C=C3\\C(=O)Nc4cc(N5CCN(C)CC5)...</td>\n",
       "      <td>IC50</td>\n",
       "      <td>'='</td>\n",
       "      <td>...</td>\n",
       "      <td>A549</td>\n",
       "      <td>Homo sapiens</td>\n",
       "      <td>CELL-LINE</td>\n",
       "      <td>CHEMBL4177752</td>\n",
       "      <td>1</td>\n",
       "      <td>Scientific Literature</td>\n",
       "      <td>J Med Chem</td>\n",
       "      <td>2018.0</td>\n",
       "      <td>CHEMBL3307651</td>\n",
       "      <td>NaN</td>\n",
       "    </tr>\n",
       "  </tbody>\n",
       "</table>\n",
       "<p>5 rows × 45 columns</p>\n",
       "</div>"
      ],
      "text/plain": [
       "  Molecule ChEMBL ID Molecule Name Molecule Max Phase Molecular Weight  \\\n",
       "0      CHEMBL4213237           NaN               None           286.46   \n",
       "1      CHEMBL4204703           NaN               None           308.39   \n",
       "2       CHEMBL136689           NaN               None           389.42   \n",
       "3       CHEMBL483688           NaN               None           529.02   \n",
       "4      CHEMBL4218062           NaN               None           523.59   \n",
       "\n",
       "  #RO5 Violations AlogP    Compound Key  \\\n",
       "0               0  2.19             7'e   \n",
       "1               0  3.34     13, SLV 320   \n",
       "2               0  2.96  15, SCH 442416   \n",
       "3               1  2.65     16, PSB 603   \n",
       "4               1  2.81              30   \n",
       "\n",
       "                                              Smiles Standard Type  \\\n",
       "0              CCCCCCCCCCCNC[C@@H]1OC[C@H](N)[C@H]1O          IC50   \n",
       "1    O[C@H]1CC[C@H](Nc2nc(-c3ccccc3)nc3[nH]ccc23)CC1      Activity   \n",
       "2     COc1ccc(CCCn2ncc3c2nc(N)n2nc(-c4ccco4)nc32)cc1      Activity   \n",
       "3  CCCn1c(=O)[nH]c2nc(-c3ccc(S(=O)(=O)N4CCN(c5ccc...      Activity   \n",
       "4  CN(C)CCCNc1cc2nc(/C=C3\\C(=O)Nc4cc(N5CCN(C)CC5)...          IC50   \n",
       "\n",
       "  Standard Relation  ...  Target Name Target Organism  Target Type  \\\n",
       "0               '='  ...         A549    Homo sapiens    CELL-LINE   \n",
       "1               '='  ...         A549    Homo sapiens    CELL-LINE   \n",
       "2               '='  ...         A549    Homo sapiens    CELL-LINE   \n",
       "3               '='  ...         A549    Homo sapiens    CELL-LINE   \n",
       "4               '='  ...         A549    Homo sapiens    CELL-LINE   \n",
       "\n",
       "  Document ChEMBL ID Source ID     Source Description      Document Journal  \\\n",
       "0      CHEMBL4184090         1  Scientific Literature  Bioorg Med Chem Lett   \n",
       "1      CHEMBL4184095         1  Scientific Literature  Bioorg Med Chem Lett   \n",
       "2      CHEMBL4184095         1  Scientific Literature  Bioorg Med Chem Lett   \n",
       "3      CHEMBL4184095         1  Scientific Literature  Bioorg Med Chem Lett   \n",
       "4      CHEMBL4177752         1  Scientific Literature            J Med Chem   \n",
       "\n",
       "   Document Year  Cell ChEMBL ID  Properties  \n",
       "0         2018.0   CHEMBL3307651         NaN  \n",
       "1         2018.0   CHEMBL3307651         NaN  \n",
       "2         2018.0   CHEMBL3307651         NaN  \n",
       "3         2018.0   CHEMBL3307651         NaN  \n",
       "4         2018.0   CHEMBL3307651         NaN  \n",
       "\n",
       "[5 rows x 45 columns]"
      ]
     },
     "execution_count": 510,
     "metadata": {},
     "output_type": "execute_result"
    }
   ],
   "source": [
    "data = pd.read_csv('/home/labhhc/Documents/Project/CADD_package/Data_preprocess/Data/CHEMBL4247.csv', sep=';')\n",
    "data.head(5)"
   ]
  },
  {
   "cell_type": "code",
   "execution_count": 483,
   "id": "fc93fa18-0298-4aa8-8287-ffccfae4d731",
   "metadata": {},
   "outputs": [
    {
     "data": {
      "text/plain": [
       "Index(['Molecule ChEMBL ID', 'Molecule Name', 'Molecule Max Phase',\n",
       "       'Molecular Weight', '#RO5 Violations', 'AlogP', 'Compound Key',\n",
       "       'Smiles', 'Standard Type', 'Standard Relation', 'Standard Value',\n",
       "       'Standard Units', 'pChEMBL Value', 'Data Validity Comment', 'Comment',\n",
       "       'Uo Units', 'Ligand Efficiency BEI', 'Ligand Efficiency LE',\n",
       "       'Ligand Efficiency LLE', 'Ligand Efficiency SEI', 'Potential Duplicate',\n",
       "       'Assay ChEMBL ID', 'Assay Description', 'Assay Type', 'BAO Format ID',\n",
       "       'BAO Label', 'Assay Organism', 'Assay Tissue ChEMBL ID',\n",
       "       'Assay Tissue Name', 'Assay Cell Type', 'Assay Subcellular Fraction',\n",
       "       'Assay Parameters', 'Assay Variant Accession', 'Assay Variant Mutation',\n",
       "       'Target ChEMBL ID', 'Target Name', 'Target Organism', 'Target Type',\n",
       "       'Document ChEMBL ID', 'Source ID', 'Source Description',\n",
       "       'Document Journal', 'Document Year', 'Cell ChEMBL ID', 'Properties'],\n",
       "      dtype='object')"
      ]
     },
     "execution_count": 511,
     "metadata": {},
     "output_type": "execute_result"
    }
   ],
   "source": [
    "data.columns"
   ]
  },
  {
   "cell_type": "markdown",
   "id": "ecf39cfc-59f6-449d-8798-7c94f2afe602",
   "metadata": {},
   "source": [
    "# 2. FLOW"
   ]
  },
  {
   "cell_type": "code",
   "execution_count": 484,
   "id": "fc952a96-df19-4bec-9ecf-43347e7f7501",
   "metadata": {},
   "outputs": [],
   "source": [
    "columns = ['Molecule ChEMBL ID', 'Smiles', 'Standard Type', 'Standard Relation', 'Standard Value', 'Standard Units', 'pChEMBL Value', 'Data Validity Comment',\n",
    "          'Assay Type', 'Assay Description','Assay Organism', 'Assay Variant Mutation','Target Name','Target Organism', 'Document Journal']\n",
    "\n",
    "df = data[columns]"
   ]
  },
  {
   "cell_type": "code",
   "execution_count": 485,
   "id": "4b775e39-e82c-493c-8392-526aee0c96d6",
   "metadata": {},
   "outputs": [
    {
     "data": {
      "text/plain": [
       "array(['A549'], dtype=object)"
      ]
     },
     "execution_count": 513,
     "metadata": {},
     "output_type": "execute_result"
    }
   ],
   "source": [
    "df['Target Name'].unique()"
   ]
  },
  {
   "cell_type": "code",
   "execution_count": 486,
   "id": "7203dcdd-9fb6-4b59-ba67-8f98b4118151",
   "metadata": {},
   "outputs": [
    {
     "data": {
      "text/plain": [
       "array(['Homo sapiens'], dtype=object)"
      ]
     },
     "execution_count": 514,
     "metadata": {},
     "output_type": "execute_result"
    }
   ],
   "source": [
    "df['Target Organism'].unique()"
   ]
  },
  {
   "cell_type": "markdown",
   "id": "c72767ab-566b-4b2a-9b0f-c38c3a876024",
   "metadata": {
    "id": "28fbcc51-6d71-4e40-8276-1d02b0f7097d",
    "outputId": "c91a7db4-8318-4958-9f24-79b2b031e13f"
   },
   "source": [
    "## 2.1. Target value standardize (Standard)"
   ]
  },
  {
   "cell_type": "code",
   "execution_count": 487,
   "id": "d4ddf4ec-d358-4de6-943a-726a4ccdccbd",
   "metadata": {},
   "outputs": [],
   "source": [
    "class target_curate:\n",
    "    def __init__(self, data, target_name_col, target_name, target_org_col, target_org,\n",
    "                 type_col, unit_col, active_col, relate_col, type_arg,equal_only = False, thresh = 7):\n",
    "        self.data = data.reset_index(drop=True)\n",
    "        self.target_name_col = target_name_col \n",
    "        self.target_name = target_name\n",
    "        self.target_org_col=target_org_col\n",
    "        self.target_org = target_org\n",
    "        self.type_col = type_col\n",
    "        self.unit_col = unit_col\n",
    "        self.active_col = active_col\n",
    "        self.relate_col = relate_col\n",
    "        self.type_arg = type_arg\n",
    "        self.equal_only = equal_only\n",
    "        self.thresh = thresh\n",
    "        \n",
    "    def target_filter(self, data, target_name_col, target_name, target_org_col, target_org):\n",
    "        df= data[data[target_name_col]==target_name]\n",
    "        display(df.shape)\n",
    "        df2 = df[df[target_org_col]==target_org]\n",
    "        display(df2.shape)\n",
    "        return df2\n",
    "    def standardize_value(self, data, type_col, type_arg, unit_col):\n",
    "        df = data[data[type_col]==type_arg]\n",
    "        df= df.dropna(subset =unit_col)\n",
    "        df.reset_index(drop=True, inplace = True)\n",
    "        type = ['μM','µM', 'nM', 'mM', 'M', 'nmol/l']\n",
    "        idx = []\n",
    "        for key, value in enumerate(df[unit_col]):\n",
    "            if value in type:\n",
    "                idx.append(key)\n",
    "        df = df.iloc[idx,:]\n",
    "        return df\n",
    "    \n",
    "    def convert_activity(self, data, active_col, unit_col):\n",
    "        df = data.copy()\n",
    "        df['pChEMBL'] = np.zeros(len(df))\n",
    "        #unit = df['Unit'].unique()\n",
    "\n",
    "        for key, value in enumerate(df[unit_col]):\n",
    "            if value == 'μM':\n",
    "                df.loc[key, 'pChEMBL'] = -np.log10(df.loc[key, active_col]*1e-6)\n",
    "            elif value  == 'µM':\n",
    "                df.loc[key, 'pChEMBL'] = -np.log10(df.loc[key, active_col]*1e-6)\n",
    "            elif value  == 'nM':\n",
    "                df.loc[key, 'pChEMBL'] = -np.log10(df.loc[key, active_col]*1e-9)\n",
    "            elif value  == 'nmol/l':\n",
    "                df.loc[key, 'pChEMBL'] = -np.log10(df.loc[key, active_col]*1e-9)\n",
    "            elif value  == 'mM':\n",
    "                df.loc[key, 'pChEMBL'] = -np.log10(df.loc[key, active_col]*1e-3)\n",
    "            elif value  == 'M':\n",
    "                df.loc[key, 'pChEMBL'] = -np.log10(df.loc[key, active_col]*1)\n",
    "            elif value  == 'no unit':\n",
    "                df.loc[key, 'pChEMBL'] = -df.loc[key, active_col]\n",
    "        return df\n",
    "    \n",
    "    \n",
    "    def standardize_relation(self, data,relate_col,  equal_only, thresh):\n",
    "        df = data.copy()\n",
    "        df.dropna(subset = relate_col, inplace = True)\n",
    "        if equal_only == True:\n",
    "            print('SELECTING ONLY EQUAL')\n",
    "            df = df[df[relate_col]==\"'='\"]\n",
    "            \n",
    "        else:\n",
    "            print('HANDLING')\n",
    "            df_big = df[(df[relate_col] == \"'>'\") | (df[relate_col] == \"'>='\")]\n",
    "            df_small = df[(df[relate_col] == \"'<'\") | (df[relate_col] == \"'<='\")]\n",
    "            df_equal = df[df[relate_col]==\"'='\"]\n",
    "                \n",
    "            #Drop pCHEMBL < thresh for df_big\n",
    "            drop_idx = df_big[df_big[\"pChEMBL\"] < thresh].index\n",
    "            df_big.drop(drop_idx, inplace = True)\n",
    "                \n",
    "            #Drop pCHEMBL > thresh for df_small\n",
    "            drop_idx = df_small[df_small[\"pChEMBL\"] > thresh].index\n",
    "            df_small.drop(drop_idx, inplace = True)\n",
    "                \n",
    "            df = pd.concat((df_equal, df_small, df_big), axis = 0)\n",
    "        return df\n",
    "                  \n",
    "    def curated_fit(self):\n",
    "        print(\"Number of data before target curation:\", self.data.shape[0])\n",
    "        df = self.target_filter(data = self.data, target_name_col = self.target_name_col, target_name =self.target_name, \n",
    "                           target_org_col=self.target_org_col, target_org = self.target_org)\n",
    "        print(\"Number of data after handle organism and target name:\", df.shape[0])\n",
    "        df1 = self.standardize_value(data=df, type_col=self.type_col, type_arg=self.type_arg, unit_col=self.unit_col)\n",
    "        df1.reset_index(drop=True, inplace = True)\n",
    "        print(\"Number of data after select unit:\", df1.shape[0])\n",
    "        #display(df.head(5))\n",
    "        df2 = self.convert_activity(data=df1, active_col=self.active_col, unit_col = self.unit_col)\n",
    "        df2.reset_index(drop=True, inplace = True)\n",
    "        #display(df2.head(5))\n",
    "        df3 = self.standardize_relation(data=df2,relate_col=self.relate_col,  equal_only=self.equal_only, thresh=self.thresh)\n",
    "        self.df = df3\n",
    "        print(\"Number of data after standardizing:\", self.df.shape[0])\n",
    "        \n",
    "        "
   ]
  },
  {
   "cell_type": "code",
   "execution_count": 488,
   "id": "e8de6e4f-5347-479c-b576-e5cefc9e2065",
   "metadata": {},
   "outputs": [
    {
     "name": "stdout",
     "output_type": "stream",
     "text": [
      "Number of data before target curation: 69180\n"
     ]
    },
    {
     "data": {
      "text/plain": [
       "(69180, 15)"
      ]
     },
     "metadata": {},
     "output_type": "display_data"
    },
    {
     "data": {
      "text/plain": [
       "(69180, 15)"
      ]
     },
     "metadata": {},
     "output_type": "display_data"
    },
    {
     "name": "stdout",
     "output_type": "stream",
     "text": [
      "Number of data after handle organism and target name: 69180\n",
      "Number of data after select unit: 17659\n",
      "HANDLING\n",
      "Number of data after standardizing: 13787\n"
     ]
    },
    {
     "name": "stderr",
     "output_type": "stream",
     "text": [
      "/tmp/ipykernel_675207/1475208806.py:73: SettingWithCopyWarning: \n",
      "A value is trying to be set on a copy of a slice from a DataFrame\n",
      "\n",
      "See the caveats in the documentation: https://pandas.pydata.org/pandas-docs/stable/user_guide/indexing.html#returning-a-view-versus-a-copy\n",
      "  df_big.drop(drop_idx, inplace = True)\n",
      "/tmp/ipykernel_675207/1475208806.py:77: SettingWithCopyWarning: \n",
      "A value is trying to be set on a copy of a slice from a DataFrame\n",
      "\n",
      "See the caveats in the documentation: https://pandas.pydata.org/pandas-docs/stable/user_guide/indexing.html#returning-a-view-versus-a-copy\n",
      "  df_small.drop(drop_idx, inplace = True)\n"
     ]
    }
   ],
   "source": [
    "target = target_curate(data =df, target_name_col = 'Target Name', target_name ='MDA-MB-231', target_org_col='Target Organism', target_org = 'Homo sapiens',\n",
    "                            type_col='Standard Type', unit_col='Standard Units', active_col='Standard Value', \n",
    "                            relate_col='Standard Relation', type_arg ='IC50',equal_only = False, thresh = 7)\n",
    "target.curated_fit()"
   ]
  },
  {
   "cell_type": "code",
   "execution_count": 489,
   "id": "62ca578e-188f-4b4c-8f31-daec11fc492f",
   "metadata": {},
   "outputs": [],
   "source": [
    "df1 = target.df"
   ]
  },
  {
   "cell_type": "markdown",
   "id": "31e268cc-42cc-43d1-af8b-05098e33b5e4",
   "metadata": {},
   "source": [
    "## 2.2. Assay"
   ]
  },
  {
   "cell_type": "code",
   "execution_count": 490,
   "id": "fc4d80ec-a460-4395-a1ed-b8842ce3b8f9",
   "metadata": {},
   "outputs": [],
   "source": [
    "class assay_curate:\n",
    "    def __init__(self,data, type_col, org_col,des_col, type_arg='F', org_arg='Homo sapiens', kw = 'MTT'):\n",
    "        self.data = data\n",
    "        self.type_col = type_col\n",
    "        self.org_col = org_col\n",
    "        self.des_col = des_col\n",
    "        self.type_arg= type_arg\n",
    "        self.org_arg= org_arg\n",
    "        self.kw = kw \n",
    "    \n",
    "    def search_kw(self, data,kw, des_col):\n",
    "        index = []\n",
    "        for key, value in enumerate(data[des_col]):\n",
    "            if kw in value:\n",
    "                index.append(key)\n",
    "        return data.iloc[index,:]\n",
    "    \n",
    "    def curated_fit(self):\n",
    "        print(\"Number of data befor standardizing:\", self.data.shape[0])\n",
    "        df = self.data[self.data[self.type_col]==self.type_arg]\n",
    "        print(\"Number of data after choosing assay type:\", df.shape[0])\n",
    "        df2 = df[df[self.org_col]==self.org_arg]\n",
    "        print(\"Number of data after choosing assay organism:\", df2.shape[0])\n",
    "        df3 = self.search_kw(data=df2, kw = self.kw, des_col = self.des_col)\n",
    "        print(\"Number of data after curating:\", df3.shape[0])\n",
    "        self.df = df3"
   ]
  },
  {
   "cell_type": "code",
   "execution_count": 491,
   "id": "be589c5e-7163-4cfa-9870-e5755592f6d8",
   "metadata": {},
   "outputs": [
    {
     "name": "stdout",
     "output_type": "stream",
     "text": [
      "Number of data befor standardizing: 13787\n",
      "Number of data after choosing assay type: 13715\n",
      "Number of data after choosing assay organism: 13715\n",
      "Number of data after curating: 8104\n"
     ]
    }
   ],
   "source": [
    "assay = assay_curate(data=df1, type_col=\"Assay Type\", org_col=\"Assay Organism\",des_col='Assay Description', \n",
    "                     type_arg='F', org_arg='Homo sapiens', kw = 'MTT')\n",
    "\n",
    "assay.curated_fit()"
   ]
  },
  {
   "cell_type": "code",
   "execution_count": 492,
   "id": "ddfa356a-620a-4c0c-ae18-004c3bd2d8f0",
   "metadata": {},
   "outputs": [
    {
     "data": {
      "text/plain": [
       "(8104, 16)"
      ]
     },
     "execution_count": 492,
     "metadata": {},
     "output_type": "execute_result"
    }
   ],
   "source": [
    "df2 = assay.df\n",
    "df2.shape"
   ]
  },
  {
   "cell_type": "markdown",
   "id": "YTvfa-Fb0MIs",
   "metadata": {
    "id": "YTvfa-Fb0MIs"
   },
   "source": [
    "## 2.3. Smiles curated"
   ]
  },
  {
   "cell_type": "code",
   "execution_count": 493,
   "id": "3bf92773-f7a6-4987-a5c4-7870205e9323",
   "metadata": {},
   "outputs": [],
   "source": [
    "class smile_curate:\n",
    "    def __init__(self, data, smile_col, pchem_col, keep = 'best'):\n",
    "        self.data = data\n",
    "        self.smile_col = smile_col\n",
    "        self.pchem_col = pchem_col\n",
    "        self.keep = keep\n",
    "    def smile_norm(data, smile_col):\n",
    "        df = data.dropna(subset = smile_col)\n",
    "        df['Canonical_Smiles'] = df[smile_col].apply(Chem.CanonSmiles)\n",
    "        return df\n",
    "    def curate(self):\n",
    "        df = smile_norm(data=self.data, smile_col=self.smile_col)\n",
    "        if self.keep == 'best':\n",
    "            df = df.sort_values(by=self.pchem_col, ascending=False)\n",
    "            df_dropdup = df.drop_duplicates(subset=['Canonical_Smiles'], keep=\"first\")\n",
    "        elif self.keep == 'worst':\n",
    "            df = df.sort_values(by=self.pchem_col, ascending=True)\n",
    "            df_dropdup = df.drop_duplicates(subset=['Canonical_Smiles'], keep=\"first\")\n",
    "           \n",
    "        print(df_dropdup.shape)\n",
    "        self.df = df_dropdup"
   ]
  },
  {
   "cell_type": "code",
   "execution_count": 494,
   "id": "3e9f6a7e-6d20-4dff-814e-f05a993c3ab6",
   "metadata": {},
   "outputs": [
    {
     "name": "stdout",
     "output_type": "stream",
     "text": [
      "(7427, 17)\n"
     ]
    }
   ],
   "source": [
    "smile = smile_curate(data=df2, smile_col='Smiles', pchem_col='pChEMBL', keep = 'best')\n",
    "smile.curate()"
   ]
  },
  {
   "cell_type": "code",
   "execution_count": 495,
   "id": "5f53dd07-f496-4c8b-88c1-c8ac4ee04567",
   "metadata": {},
   "outputs": [],
   "source": [
    "df3 = smile.df"
   ]
  },
  {
   "cell_type": "code",
   "execution_count": 496,
   "id": "21da336a-be83-4a27-81c6-d7dc32e2535f",
   "metadata": {},
   "outputs": [
    {
     "data": {
      "text/html": [
       "<div>\n",
       "<style scoped>\n",
       "    .dataframe tbody tr th:only-of-type {\n",
       "        vertical-align: middle;\n",
       "    }\n",
       "\n",
       "    .dataframe tbody tr th {\n",
       "        vertical-align: top;\n",
       "    }\n",
       "\n",
       "    .dataframe thead th {\n",
       "        text-align: right;\n",
       "    }\n",
       "</style>\n",
       "<table border=\"1\" class=\"dataframe\">\n",
       "  <thead>\n",
       "    <tr style=\"text-align: right;\">\n",
       "      <th></th>\n",
       "      <th>Molecule ChEMBL ID</th>\n",
       "      <th>Smiles</th>\n",
       "      <th>Standard Type</th>\n",
       "      <th>Standard Relation</th>\n",
       "      <th>Standard Value</th>\n",
       "      <th>Standard Units</th>\n",
       "      <th>pChEMBL Value</th>\n",
       "      <th>Data Validity Comment</th>\n",
       "      <th>Assay Type</th>\n",
       "      <th>Assay Description</th>\n",
       "      <th>Assay Organism</th>\n",
       "      <th>Assay Variant Mutation</th>\n",
       "      <th>Target Name</th>\n",
       "      <th>Target Organism</th>\n",
       "      <th>Document Journal</th>\n",
       "      <th>pChEMBL</th>\n",
       "      <th>Canonical_Smiles</th>\n",
       "    </tr>\n",
       "  </thead>\n",
       "  <tbody>\n",
       "    <tr>\n",
       "      <th>1211</th>\n",
       "      <td>CHEMBL2321905</td>\n",
       "      <td>COC(=O)c1cc(-c2ccc(NC(=O)c3cc(NC(=O)CCCOc4cc5c...</td>\n",
       "      <td>IC50</td>\n",
       "      <td>'='</td>\n",
       "      <td>0.000065</td>\n",
       "      <td>nM</td>\n",
       "      <td>NaN</td>\n",
       "      <td>Outside typical range</td>\n",
       "      <td>F</td>\n",
       "      <td>Cytotoxicity against human MDA-MB-231 cells af...</td>\n",
       "      <td>Homo sapiens</td>\n",
       "      <td>NaN</td>\n",
       "      <td>MDA-MB-231</td>\n",
       "      <td>Homo sapiens</td>\n",
       "      <td>J Med Chem</td>\n",
       "      <td>13.187087</td>\n",
       "      <td>COC(=O)c1cc(-c2ccc(NC(=O)c3cc(NC(=O)CCCOc4cc5c...</td>\n",
       "    </tr>\n",
       "    <tr>\n",
       "      <th>11280</th>\n",
       "      <td>CHEMBL2324630</td>\n",
       "      <td>COC(=O)c1cc(-c2ccc(NC(=O)c3nc(NC(=O)CCCOc4cc5c...</td>\n",
       "      <td>IC50</td>\n",
       "      <td>'='</td>\n",
       "      <td>0.000180</td>\n",
       "      <td>nM</td>\n",
       "      <td>NaN</td>\n",
       "      <td>Outside typical range</td>\n",
       "      <td>F</td>\n",
       "      <td>Cytotoxicity against human MDA-MB-231 cells af...</td>\n",
       "      <td>Homo sapiens</td>\n",
       "      <td>NaN</td>\n",
       "      <td>MDA-MB-231</td>\n",
       "      <td>Homo sapiens</td>\n",
       "      <td>J Med Chem</td>\n",
       "      <td>12.744727</td>\n",
       "      <td>COC(=O)c1cc(-c2ccc(NC(=O)c3nc(NC(=O)CCCOc4cc5c...</td>\n",
       "    </tr>\n",
       "    <tr>\n",
       "      <th>9029</th>\n",
       "      <td>CHEMBL218105</td>\n",
       "      <td>COc1cc(/C=C/C(=O)O)ccc1OCC=C(C)C</td>\n",
       "      <td>IC50</td>\n",
       "      <td>'='</td>\n",
       "      <td>0.000800</td>\n",
       "      <td>nM</td>\n",
       "      <td>NaN</td>\n",
       "      <td>Outside typical range</td>\n",
       "      <td>F</td>\n",
       "      <td>Antiproliferative activity against human MDA-M...</td>\n",
       "      <td>Homo sapiens</td>\n",
       "      <td>NaN</td>\n",
       "      <td>MDA-MB-231</td>\n",
       "      <td>Homo sapiens</td>\n",
       "      <td>J Nat Prod</td>\n",
       "      <td>12.096910</td>\n",
       "      <td>COc1cc(/C=C/C(=O)O)ccc1OCC=C(C)C</td>\n",
       "    </tr>\n",
       "    <tr>\n",
       "      <th>6216</th>\n",
       "      <td>CHEMBL2324629</td>\n",
       "      <td>COC(=O)c1nc(NC(=O)c2cc(NC(=O)c3cc(-c4ccc(NC(=O...</td>\n",
       "      <td>IC50</td>\n",
       "      <td>'='</td>\n",
       "      <td>0.015000</td>\n",
       "      <td>nM</td>\n",
       "      <td>10.82</td>\n",
       "      <td>NaN</td>\n",
       "      <td>F</td>\n",
       "      <td>Cytotoxicity against human MDA-MB-231 cells af...</td>\n",
       "      <td>Homo sapiens</td>\n",
       "      <td>NaN</td>\n",
       "      <td>MDA-MB-231</td>\n",
       "      <td>Homo sapiens</td>\n",
       "      <td>J Med Chem</td>\n",
       "      <td>10.823909</td>\n",
       "      <td>COC(=O)c1nc(NC(=O)c2cc(NC(=O)c3cc(-c4ccc(NC(=O...</td>\n",
       "    </tr>\n",
       "    <tr>\n",
       "      <th>11466</th>\n",
       "      <td>CHEMBL215032</td>\n",
       "      <td>COC(=O)c1cc(NC(=O)c2cc(NC(=O)CCCOc3cc4c(cc3OC)...</td>\n",
       "      <td>IC50</td>\n",
       "      <td>'='</td>\n",
       "      <td>0.120000</td>\n",
       "      <td>nM</td>\n",
       "      <td>9.92</td>\n",
       "      <td>NaN</td>\n",
       "      <td>F</td>\n",
       "      <td>Cytotoxicity against human MDA-MB-231 cells af...</td>\n",
       "      <td>Homo sapiens</td>\n",
       "      <td>NaN</td>\n",
       "      <td>MDA-MB-231</td>\n",
       "      <td>Homo sapiens</td>\n",
       "      <td>J Med Chem</td>\n",
       "      <td>9.920819</td>\n",
       "      <td>COC(=O)c1cc(NC(=O)c2cc(NC(=O)CCCOc3cc4c(cc3OC)...</td>\n",
       "    </tr>\n",
       "  </tbody>\n",
       "</table>\n",
       "</div>"
      ],
      "text/plain": [
       "      Molecule ChEMBL ID                                             Smiles  \\\n",
       "1211       CHEMBL2321905  COC(=O)c1cc(-c2ccc(NC(=O)c3cc(NC(=O)CCCOc4cc5c...   \n",
       "11280      CHEMBL2324630  COC(=O)c1cc(-c2ccc(NC(=O)c3nc(NC(=O)CCCOc4cc5c...   \n",
       "9029        CHEMBL218105                   COc1cc(/C=C/C(=O)O)ccc1OCC=C(C)C   \n",
       "6216       CHEMBL2324629  COC(=O)c1nc(NC(=O)c2cc(NC(=O)c3cc(-c4ccc(NC(=O...   \n",
       "11466       CHEMBL215032  COC(=O)c1cc(NC(=O)c2cc(NC(=O)CCCOc3cc4c(cc3OC)...   \n",
       "\n",
       "      Standard Type Standard Relation  Standard Value Standard Units  \\\n",
       "1211           IC50               '='        0.000065             nM   \n",
       "11280          IC50               '='        0.000180             nM   \n",
       "9029           IC50               '='        0.000800             nM   \n",
       "6216           IC50               '='        0.015000             nM   \n",
       "11466          IC50               '='        0.120000             nM   \n",
       "\n",
       "       pChEMBL Value  Data Validity Comment Assay Type  \\\n",
       "1211             NaN  Outside typical range          F   \n",
       "11280            NaN  Outside typical range          F   \n",
       "9029             NaN  Outside typical range          F   \n",
       "6216           10.82                    NaN          F   \n",
       "11466           9.92                    NaN          F   \n",
       "\n",
       "                                       Assay Description Assay Organism  \\\n",
       "1211   Cytotoxicity against human MDA-MB-231 cells af...   Homo sapiens   \n",
       "11280  Cytotoxicity against human MDA-MB-231 cells af...   Homo sapiens   \n",
       "9029   Antiproliferative activity against human MDA-M...   Homo sapiens   \n",
       "6216   Cytotoxicity against human MDA-MB-231 cells af...   Homo sapiens   \n",
       "11466  Cytotoxicity against human MDA-MB-231 cells af...   Homo sapiens   \n",
       "\n",
       "       Assay Variant Mutation Target Name Target Organism Document Journal  \\\n",
       "1211                      NaN  MDA-MB-231    Homo sapiens       J Med Chem   \n",
       "11280                     NaN  MDA-MB-231    Homo sapiens       J Med Chem   \n",
       "9029                      NaN  MDA-MB-231    Homo sapiens       J Nat Prod   \n",
       "6216                      NaN  MDA-MB-231    Homo sapiens       J Med Chem   \n",
       "11466                     NaN  MDA-MB-231    Homo sapiens       J Med Chem   \n",
       "\n",
       "         pChEMBL                                   Canonical_Smiles  \n",
       "1211   13.187087  COC(=O)c1cc(-c2ccc(NC(=O)c3cc(NC(=O)CCCOc4cc5c...  \n",
       "11280  12.744727  COC(=O)c1cc(-c2ccc(NC(=O)c3nc(NC(=O)CCCOc4cc5c...  \n",
       "9029   12.096910                   COc1cc(/C=C/C(=O)O)ccc1OCC=C(C)C  \n",
       "6216   10.823909  COC(=O)c1nc(NC(=O)c2cc(NC(=O)c3cc(-c4ccc(NC(=O...  \n",
       "11466   9.920819  COC(=O)c1cc(NC(=O)c2cc(NC(=O)CCCOc3cc4c(cc3OC)...  "
      ]
     },
     "execution_count": 496,
     "metadata": {},
     "output_type": "execute_result"
    }
   ],
   "source": [
    "df3.head()"
   ]
  },
  {
   "cell_type": "markdown",
   "id": "4d1a95dd-0966-4a8a-af39-dfaa4dc42d34",
   "metadata": {},
   "source": [
    "## 2.4. pChEMBL"
   ]
  },
  {
   "cell_type": "code",
   "execution_count": 497,
   "id": "3590d3b6-97a8-47d6-a9da-1d9c873ff3ec",
   "metadata": {},
   "outputs": [
    {
     "data": {
      "text/plain": [
       "(7232, 17)"
      ]
     },
     "execution_count": 497,
     "metadata": {},
     "output_type": "execute_result"
    }
   ],
   "source": [
    "df4 = df3.dropna(subset = 'pChEMBL Value')\n",
    "df4.shape"
   ]
  },
  {
   "cell_type": "code",
   "execution_count": 498,
   "id": "8b736699-dfd1-4e0a-8557-6429ae1b38d9",
   "metadata": {},
   "outputs": [],
   "source": [
    "import seaborn as sns\n",
    "import matplotlib.pyplot as plt"
   ]
  },
  {
   "cell_type": "code",
   "execution_count": 499,
   "id": "af654ca0-b531-4175-befd-6a0d5a2d9e12",
   "metadata": {},
   "outputs": [
    {
     "name": "stdout",
     "output_type": "stream",
     "text": [
      "R2= 0.9999890666199683\n"
     ]
    },
    {
     "data": {
      "text/plain": [
       "<seaborn.axisgrid.JointGrid at 0x7f074601c3a0>"
      ]
     },
     "execution_count": 499,
     "metadata": {},
     "output_type": "execute_result"
    },
    {
     "data": {
      "image/png": "[encoded data removed]",
      "text/plain": [
       "<Figure size 600x600 with 3 Axes>"
      ]
     },
     "metadata": {},
     "output_type": "display_data"
    }
   ],
   "source": [
    "import seaborn as sns\n",
    "import numpy as np\n",
    "\n",
    "x, y = df4[\"pChEMBL Value\"].values, df4[\"pChEMBL\"].values\n",
    "def r2(x, y):\n",
    "    return stats.pearsonr(x, y)[0] ** 2\n",
    "r2=stats.pearsonr(x, y)[0] ** 2\n",
    "print('R2=', r2)\n",
    "\n",
    "sns.jointplot(data = df4, \n",
    "    x = \"pChEMBL Value\",\n",
    "    y = \"pChEMBL\", kind=\"reg\")\n"
   ]
  },
  {
   "cell_type": "markdown",
   "id": "442877ba-7fd6-4db4-82af-ac8610da34f5",
   "metadata": {},
   "source": [
    "## 2.5. Save"
   ]
  },
  {
   "cell_type": "code",
   "execution_count": 500,
   "id": "513f5064-af31-4000-8636-74830810afc4",
   "metadata": {},
   "outputs": [],
   "source": [
    "df3.to_csv('MDAMB231.csv')\n",
    "df4.to_csv('MDAMB231_pchem.csv')"
   ]
  },
  {
   "cell_type": "code",
   "execution_count": null,
   "id": "7a7747c0-86ba-47c4-8f78-5cad3126b93c",
   "metadata": {},
   "outputs": [],
   "source": []
  }
 ],
 "metadata": {
  "colab": {
   "provenance": []
  },
  "kernelspec": {
   "display_name": "Python 3 (ipykernel)",
   "language": "python",
   "name": "python3"
  },
  "language_info": {
   "codemirror_mode": {
    "name": "ipython",
    "version": 3
   },
   "file_extension": ".py",
   "mimetype": "text/x-python",
   "name": "python",
   "nbconvert_exporter": "python",
   "pygments_lexer": "ipython3",
   "version": "3.9.16"
  }
 },
 "nbformat": 4,
 "nbformat_minor": 5
}
